{
 "cells": [
  {
   "cell_type": "markdown",
   "metadata": {},
   "source": [
    "# Working with Data - Computer Lab for Guest Lecture Julia Lane\n",
    "\n",
    "In this computer lab we will learn more more details and practice data work to enhance the content of the lecture presented by Julia Lane on responsible data use. We will address a research question, think about data and measurement errors, and manipulate data. \n",
    "\n",
    "OUTLINE: \n",
    "1. Define a research question \n",
    "2. Think about what data are available \n",
    "3. Think about possible measurement errors \n",
    "4. Think about the interpretation of your results \n",
    "5. Inform your results by linking datasets "
   ]
  },
  {
   "cell_type": "markdown",
   "metadata": {
    "raw_mimetype": "text/markdown"
   },
   "source": [
    "# 1. Define a reserach question\n",
    "Which Community Districts in NYC show the highest number of complaints?\n",
    "\n",
    "# 2. Think about what data are available\n",
    "Find suitable data by searching the CUSP Data Catalog https://datahub.cusp.nyu.edu/catalog. You can use Urban Profiler to investigate the Metadata associated with each dataset. Using this tool will help you to decide which attributes of the data you need to answer your question so you don't have to load the entire dataset. "
   ]
  },
  {
   "cell_type": "code",
   "execution_count": 1,
   "metadata": {
    "collapsed": false
   },
   "outputs": [
    {
     "name": "stdout",
     "output_type": "stream",
     "text": [
      "/home/cusp/nm2773/PUIdata\n"
     ]
    }
   ],
   "source": [
    "import os\n",
    "import pandas as pd\n",
    "import numpy as np\n",
    "import re\n",
    "import matplotlib.pyplot as plt\n",
    "%pylab inline\n",
    "\n",
    "PUIdata = os.getenv('PUIDATA')\n",
    "print PUIdata"
   ]
  },
  {
   "cell_type": "code",
   "execution_count": 14,
   "metadata": {
    "collapsed": false
   },
   "outputs": [
    {
     "name": "stderr",
     "output_type": "stream",
     "text": [
      "/opt/rh/anaconda/root/envs/PUI2016_Python2/lib/python2.7/site-packages/IPython/core/interactiveshell.py:2717: DtypeWarning: Columns (8,17,39,40,47,48) have mixed types. Specify dtype option on import or set low_memory=False.\n",
      "  interactivity=interactivity, compiler=compiler, result=result)\n"
     ]
    }
   ],
   "source": [
    "# read data\n",
    "data = pd.read_csv('/projects/open/NYCOpenData/nycopendata/data/erm2-nwe9/1446832678/erm2-nwe9')"
   ]
  },
  {
   "cell_type": "code",
   "execution_count": 136,
   "metadata": {
    "collapsed": false
   },
   "outputs": [
    {
     "data": {
      "text/plain": [
       "Index([u'Unique Key', u'Created Date', u'Closed Date', u'Agency',\n",
       "       u'Agency Name', u'Complaint Type', u'Descriptor', u'Location Type',\n",
       "       u'Incident Zip', u'Incident Address', u'Street Name', u'Cross Street 1',\n",
       "       u'Cross Street 2', u'Intersection Street 1', u'Intersection Street 2',\n",
       "       u'Address Type', u'City', u'Landmark', u'Facility Type', u'Status',\n",
       "       u'Due Date', u'Resolution Description',\n",
       "       u'Resolution Action Updated Date', u'Community Board', u'Borough',\n",
       "       u'X Coordinate (State Plane)', u'Y Coordinate (State Plane)',\n",
       "       u'Park Facility Name', u'Park Borough', u'School Name',\n",
       "       u'School Number', u'School Region', u'School Code',\n",
       "       u'School Phone Number', u'School Address', u'School City',\n",
       "       u'School State', u'School Zip', u'School Not Found',\n",
       "       u'School or Citywide Complaint', u'Vehicle Type',\n",
       "       u'Taxi Company Borough', u'Taxi Pick Up Location',\n",
       "       u'Bridge Highway Name', u'Bridge Highway Direction', u'Road Ramp',\n",
       "       u'Bridge Highway Segment', u'Garage Lot Name', u'Ferry Direction',\n",
       "       u'Ferry Terminal Name', u'Latitude', u'Longitude', u'Location'],\n",
       "      dtype='object')"
      ]
     },
     "execution_count": 136,
     "metadata": {},
     "output_type": "execute_result"
    }
   ],
   "source": [
    "data.columns"
   ]
  },
  {
   "cell_type": "markdown",
   "metadata": {},
   "source": [
    "# 3. Think about possible measurement errors\n",
    "Do you see any problems regarding possible measurement error? Think about who is represented in the data, ommissions, duplications, content error, missing data, etc. "
   ]
  },
  {
   "cell_type": "code",
   "execution_count": 198,
   "metadata": {
    "collapsed": false
   },
   "outputs": [
    {
     "name": "stdout",
     "output_type": "stream",
     "text": [
      "Borough:\n",
      "['BROOKLYN' 'Unspecified' 'STATEN ISLAND' 'MANHATTAN' 'BRONX' 'QUEENS']\n"
     ]
    }
   ],
   "source": [
    "# Check if all Boroughs and Community Districts are represented in the Data \n",
    "print \"Borough:\"\n",
    "print data.Borough.unique()"
   ]
  },
  {
   "cell_type": "markdown",
   "metadata": {},
   "source": [
    "There is one incorrect borough named \"Unspecified\""
   ]
  },
  {
   "cell_type": "code",
   "execution_count": 205,
   "metadata": {
    "collapsed": false
   },
   "outputs": [
    {
     "name": "stdout",
     "output_type": "stream",
     "text": [
      "Community Districts:\n",
      "['13 BROOKLYN' '0 Unspecified' '18 BROOKLYN' '12 BROOKLYN'\n",
      " '02 STATEN ISLAND' '08 MANHATTAN' '06 BROOKLYN' '10 BRONX' '06 MANHATTAN'\n",
      " '04 BROOKLYN' '04 QUEENS' '09 MANHATTAN' '14 BROOKLYN' '05 MANHATTAN'\n",
      " '02 MANHATTAN' '10 QUEENS' '07 QUEENS' '02 QUEENS' '11 BROOKLYN'\n",
      " '05 QUEENS' '05 BROOKLYN' '09 QUEENS' '12 MANHATTAN' '01 BROOKLYN'\n",
      " '11 MANHATTAN' '03 BRONX' '03 STATEN ISLAND' '08 BROOKLYN' '03 BROOKLYN'\n",
      " '07 MANHATTAN' '10 MANHATTAN' '04 BRONX' '01 MANHATTAN' '07 BRONX'\n",
      " '09 BRONX' '03 MANHATTAN' '13 QUEENS' '02 BRONX' '12 QUEENS' '16 BROOKLYN'\n",
      " '08 QUEENS' '04 MANHATTAN' '14 QUEENS' '10 BROOKLYN' '11 QUEENS'\n",
      " '06 BRONX' '08 BRONX' '05 BRONX' '15 BROOKLYN' '02 BROOKLYN' '12 BRONX'\n",
      " '03 QUEENS' '06 QUEENS' '01 STATEN ISLAND' '01 BRONX' '01 QUEENS'\n",
      " '17 BROOKLYN' '11 BRONX' 'Unspecified QUEENS' '09 BROOKLYN'\n",
      " 'Unspecified MANHATTAN' 'Unspecified BROOKLYN' '07 BROOKLYN'\n",
      " 'Unspecified BRONX' '64 MANHATTAN' '81 QUEENS' '55 BROOKLYN' '83 QUEENS'\n",
      " 'Unspecified STATEN ISLAND' '28 BRONX' '80 QUEENS' '26 BRONX'\n",
      " '95 STATEN ISLAND' '82 QUEENS' '27 BRONX' '56 BROOKLYN' '84 QUEENS']\n",
      "number of community districts: 77\n"
     ]
    }
   ],
   "source": [
    "comm_district = data['Community Board'].unique()\n",
    "print \"Community Districts:\"\n",
    "print comm_district\n",
    "print \"number of community districts: \" + str(len(comm_district))"
   ]
  },
  {
   "cell_type": "code",
   "execution_count": 201,
   "metadata": {
    "collapsed": false
   },
   "outputs": [
    {
     "name": "stdout",
     "output_type": "stream",
     "text": [
      "unique values: 10187766\n",
      "number of records: 10187766\n"
     ]
    }
   ],
   "source": [
    "# How many unique values do we have? \n",
    "print \"unique values: \" + str(len(data.drop_duplicates()))\n",
    "print \"number of records: \" + str(len(data))"
   ]
  },
  {
   "cell_type": "markdown",
   "metadata": {},
   "source": [
    "number of unique values equals number of records"
   ]
  },
  {
   "cell_type": "code",
   "execution_count": 22,
   "metadata": {
    "collapsed": false
   },
   "outputs": [],
   "source": [
    "# Why do we have so many? Some of them are unspecified, missing. Some might be invalid entries. \n",
    "# We should have 59 Community Districts."
   ]
  },
  {
   "cell_type": "code",
   "execution_count": 68,
   "metadata": {
    "collapsed": false
   },
   "outputs": [
    {
     "data": {
      "text/plain": [
       "10187766"
      ]
     },
     "execution_count": 68,
     "metadata": {},
     "output_type": "execute_result"
    }
   ],
   "source": [
    "# Check for duplicates? Are these plausible?\n",
    "len(data.duplicated())"
   ]
  },
  {
   "cell_type": "code",
   "execution_count": 211,
   "metadata": {
    "collapsed": false
   },
   "outputs": [
    {
     "data": {
      "text/plain": [
       "Unique Key                               0\n",
       "Created Date                             0\n",
       "Closed Date                         450879\n",
       "Agency                                   0\n",
       "Agency Name                              0\n",
       "Complaint Type                           0\n",
       "Descriptor                           31057\n",
       "Location Type                      3067596\n",
       "Incident Zip                        794159\n",
       "Incident Address                   2197706\n",
       "Street Name                        2198559\n",
       "Cross Street 1                     2375943\n",
       "Cross Street 2                     2425793\n",
       "Intersection Street 1              8345288\n",
       "Intersection Street 2              8346302\n",
       "Address Type                        490299\n",
       "City                                788712\n",
       "Landmark                          10180456\n",
       "Facility Type                      8579485\n",
       "Status                                   0\n",
       "Due Date                           7120286\n",
       "Resolution Description             3786751\n",
       "Resolution Action Updated Date      250934\n",
       "Community Board                          0\n",
       "Borough                                  0\n",
       "X Coordinate (State Plane)          878752\n",
       "Y Coordinate (State Plane)          878752\n",
       "Park Facility Name                       0\n",
       "Park Borough                             0\n",
       "School Name                              0\n",
       "School Number                         2283\n",
       "School Region                        56197\n",
       "School Code                          56196\n",
       "School Phone Number                      0\n",
       "School Address                           6\n",
       "School City                              0\n",
       "School State                             0\n",
       "School Zip                               5\n",
       "School Not Found                   7151698\n",
       "School or Citywide Complaint      10185412\n",
       "Vehicle Type                      10180264\n",
       "Taxi Company Borough              10177601\n",
       "Taxi Pick Up Location             10089207\n",
       "Bridge Highway Name               10152671\n",
       "Bridge Highway Direction          10152723\n",
       "Road Ramp                         10152986\n",
       "Bridge Highway Segment            10135780\n",
       "Garage Lot Name                   10183433\n",
       "Ferry Direction                   10185023\n",
       "Ferry Terminal Name               10181242\n",
       "Latitude                            878752\n",
       "Longitude                           878752\n",
       "Location                            878752\n",
       "dtype: int64"
      ]
     },
     "execution_count": 211,
     "metadata": {},
     "output_type": "execute_result"
    }
   ],
   "source": [
    "# What about missing values? Can you detect any patterns? \n",
    "# below is number of nan per column\n",
    "data.isnull().sum()"
   ]
  },
  {
   "cell_type": "markdown",
   "metadata": {},
   "source": [
    "majority of missing values are the complaint's details, also closed dates, as the complaints are not always resolved."
   ]
  },
  {
   "cell_type": "code",
   "execution_count": 160,
   "metadata": {
    "collapsed": false
   },
   "outputs": [
    {
     "data": {
      "text/html": [
       "<div>\n",
       "<table border=\"1\" class=\"dataframe\">\n",
       "  <thead>\n",
       "    <tr style=\"text-align: right;\">\n",
       "      <th></th>\n",
       "      <th>Descriptor</th>\n",
       "      <th>Complaint Type</th>\n",
       "      <th>Resolution Description</th>\n",
       "    </tr>\n",
       "  </thead>\n",
       "  <tbody>\n",
       "    <tr>\n",
       "      <th>1</th>\n",
       "      <td>HOUSING</td>\n",
       "      <td>Opinion for the Mayor</td>\n",
       "      <td>Your comments have been submitted to the Mayor...</td>\n",
       "    </tr>\n",
       "    <tr>\n",
       "      <th>2</th>\n",
       "      <td>Trees and Sidewalks Program</td>\n",
       "      <td>Root/Sewer/Sidewalk Condition</td>\n",
       "      <td>The Department of Parks and Recreation usually...</td>\n",
       "    </tr>\n",
       "    <tr>\n",
       "      <th>3</th>\n",
       "      <td>Blocked Hydrant</td>\n",
       "      <td>Illegal Parking</td>\n",
       "      <td>Your complaint has been received by the Police...</td>\n",
       "    </tr>\n",
       "  </tbody>\n",
       "</table>\n",
       "</div>"
      ],
      "text/plain": [
       "                    Descriptor                 Complaint Type  \\\n",
       "1                      HOUSING          Opinion for the Mayor   \n",
       "2  Trees and Sidewalks Program  Root/Sewer/Sidewalk Condition   \n",
       "3              Blocked Hydrant                Illegal Parking   \n",
       "\n",
       "                              Resolution Description  \n",
       "1  Your comments have been submitted to the Mayor...  \n",
       "2  The Department of Parks and Recreation usually...  \n",
       "3  Your complaint has been received by the Police...  "
      ]
     },
     "execution_count": 160,
     "metadata": {},
     "output_type": "execute_result"
    }
   ],
   "source": [
    "# Data Editing: Is it possible to replace missing values? Is it possible to use Complaint Type \n",
    "# to fill missings in Resolution Descriptor?\n",
    "\n",
    "# code below is to do a quick peek for Descriptor and Complaint type\n",
    "data_2columns = data.loc[:,['Descriptor','Complaint Type','Resolution Description']]\n",
    "data_2columns[~data_2columns.isnull().any(axis=1)].head(3)"
   ]
  },
  {
   "cell_type": "code",
   "execution_count": 159,
   "metadata": {
    "collapsed": false
   },
   "outputs": [
    {
     "data": {
      "text/plain": [
       "Complaint Type\n",
       "AGENCY                               [HOUSING QUALITY STANDARDS, HOUSING QUALITY ST...\n",
       "APPLIANCE                            [ELECTRIC/GAS RANGE, ELECTRIC/GAS RANGE, ELECT...\n",
       "Adopt-A-Basket                       [10A Adopt-A-Basket, 10A Adopt-A-Basket, 10A A...\n",
       "Advocate-Commercial Exemptions                   [Commercial Not For Profit Exemption]\n",
       "Advocate-Personal Exemptions         [Personal SCHE Exemption, Personal DHE Exempti...\n",
       "Advocate-Prop Class Incorrect                             [Property Misclassification]\n",
       "Advocate-SCRIE/DRIE                  [DRIE, SCRIE Initial Application, DRIE, DRIE, ...\n",
       "Agency Issues                        [New Tree Complaint, Enforcement Issue, 311 On...\n",
       "Air Quality                          [Air: Odor/Fumes, Restaurant (AD2), Air: Smoke...\n",
       "Animal Abuse                         [Neglected, Neglected, No Shelter, Other (comp...\n",
       "Animal Facility - No Permit          [nan, nan, nan, nan, nan, nan, nan, nan, nan, ...\n",
       "Animal in a Park                     [Dead Animal, Dead Animal, Removing Wildlife, ...\n",
       "Asbestos                             [Asbestos Complaint (B1), Asbestos Complaint (...\n",
       "BEST/Site Safety                     [Safety Netting/Guard Rails - Damaged/Inadequa...\n",
       "Beach/Pool/Sauna Complaint           [Beach/Pool/Sauna Unpermitted, Beach/Pool/Saun...\n",
       "Benefit Card Replacement             [Medicaid, Cash Assistance, Medicaid, Food Sta...\n",
       "Bike Rack Condition                  [Bike Rack Repair, Bike Rack Repair, Bike Rack...\n",
       "Bike/Roller/Skate Chronic            [nan, nan, nan, nan, nan, nan, nan, nan, nan, ...\n",
       "Blocked Driveway                     [No Access, No Access, No Access, No Access, N...\n",
       "Boilers                              [Boiler - Defective/Inoperative/No Permit, Boi...\n",
       "Bottled Water                        [Color, Odor, Taste, Other (Explain Below), Il...\n",
       "Bridge Condition                     [Decorative Necklace Lighting, Fence, Dirt, De...\n",
       "Broken Muni Meter                    [No Receipt, Coin or Card Did Not Register, Ou...\n",
       "Broken Parking Meter                 [Out of Order, Coin or Card Did Not Register, ...\n",
       "Building Condition                   [Bikes in Buildings, Bikes in Buildings, Bikes...\n",
       "Building/Use                         [Zoning - Non-Conforming/Illegal Vehicle Stora...\n",
       "Bus Stop Shelter Placement           [New Bus Stop Shelter Placement, New Bus Stop ...\n",
       "CONSTRUCTION                         [PAVEMENT, PAVEMENT, RAIN LEADER, RAIN LEADER,...\n",
       "Calorie Labeling                     [Failure to Post Calorie Information, Failure ...\n",
       "City Vehicle Placard Complaint       [nan, nan, nan, nan, nan, nan, nan, nan, nan, ...\n",
       "                                                           ...                        \n",
       "Taxi Complaint                       [Driver Complaint, Driver Complaint, Driver Co...\n",
       "Taxi Compliment                      [Driver Compliment, Driver Compliment, Driver ...\n",
       "Taxi Report                          [Driver Report, Driver Report, Driver Report, ...\n",
       "Taxpayer Advocate Inquiry            [Excise Taxes-Refund, Property - Other Billing...\n",
       "Teaching/Learning/Instruction        [Promotion/Grad Requirements, Academic Interve...\n",
       "Traffic                              [Truck Route Violation, Congestion/Gridlock, C...\n",
       "Traffic Signal Condition             [Ped Multiple Lamps, Ped Multiple Lamps, Ped M...\n",
       "Trans Fat                            [nan, nan, nan, nan, nan, nan, nan, nan, nan, ...\n",
       "Transportation Provider Complaint    [nan, nan, nan, nan, nan, nan, nan, nan, nan, ...\n",
       "Trapping Pigeon                                                                  [nan]\n",
       "Tunnel Condition                     [Fallen Debris from Tunnel, Dirt, Debris, Litt...\n",
       "UNSANITARY CONDITION                 [PESTS, PESTS, MOLD, PESTS, PESTS, PESTS, GARB...\n",
       "Unleashed Dog                        [Unleashed Dog in Public, Unleashed Dog in Pub...\n",
       "Unlicensed Dog                                                     [License Violation]\n",
       "Unsanitary Animal Facility           [Animal Waste, Animal Waste, Animal Odor, Anim...\n",
       "Unsanitary Animal Pvt Property       [Dog, Other Animal, Dog, Cat, Cat, Cat, Cat, O...\n",
       "Unsanitary Pigeon Condition          [Pigeon Waste, Pigeon Waste, Pigeon Odor, Pige...\n",
       "Unspecified                          [Unspecified, Unspecified, Unspecified, Unspec...\n",
       "Urinating in Public                  [nan, nan, nan, nan, nan, nan, nan, nan, nan, ...\n",
       "VACANT APARTMENT                     [ABANDONED APARTMENT UNIT, ABANDONED APARTMENT...\n",
       "Vacant Lot                           [8 Request to Clean Vacant Lot, 8 Request to C...\n",
       "Vector                               [Other - Explain Below, Swimming Pool - Unmain...\n",
       "Vending                              [In Prohibited Area, Unlicensed, In Prohibited...\n",
       "Violation of Park Rules              [Smoking, Obstructing Public Use, Smoking, Obs...\n",
       "WATER LEAK                           [DAMP SPOT, HEAVY FLOW, HEAVY FLOW, SLOW LEAK,...\n",
       "Water Conservation                   [Water Meter Broken/Leaking - Private Residenc...\n",
       "Water Quality                        [Taste/Odor, Chemical (QA2), Taste/Odor, Chemi...\n",
       "Water System                         [Leak (Use Comments) (WA2), Hydrant Leaking (W...\n",
       "Window Guard                         [Tenant Refusal, Tenant Refusal, Tenant Refusa...\n",
       "X-Ray Machine/Equipment              [Facility Unregistered, Technician Unlicensed,...\n",
       "Name: Descriptor, dtype: object"
      ]
     },
     "execution_count": 159,
     "metadata": {},
     "output_type": "execute_result"
    }
   ],
   "source": [
    "# looks like descriptor is the specific description of complaint type\n",
    "# To know what kind of descriptors a complaint type might has, aggregate the data by complaint type below\n",
    "data_2columns.groupby('Complaint Type')['Descriptor'].apply(list)"
   ]
  },
  {
   "cell_type": "markdown",
   "metadata": {},
   "source": [
    "Yes, in my opinion, we can replace nan in descriptor with complaint type"
   ]
  },
  {
   "cell_type": "code",
   "execution_count": 214,
   "metadata": {
    "collapsed": false
   },
   "outputs": [],
   "source": [
    "# Generate marker for unplausible Community Districts\n",
    "# How do these districts look like? \n",
    "\n",
    "# marker below are all unplausible community districts: those with unspecified name and number greater than 18\n",
    "marker = []\n",
    "for i in range(len(comm_district)):\n",
    "    try:\n",
    "        elem = int(comm_district[i][:2])\n",
    "        if (elem > 18) | (elem == 0):\n",
    "            marker.append(comm_district[i])\n",
    "    except:\n",
    "        marker.append(comm_district[i])"
   ]
  },
  {
   "cell_type": "code",
   "execution_count": 215,
   "metadata": {
    "collapsed": false
   },
   "outputs": [
    {
     "data": {
      "text/plain": [
       "['0 Unspecified',\n",
       " 'Unspecified QUEENS',\n",
       " 'Unspecified MANHATTAN',\n",
       " 'Unspecified BROOKLYN',\n",
       " 'Unspecified BRONX',\n",
       " '64 MANHATTAN',\n",
       " '81 QUEENS',\n",
       " '55 BROOKLYN',\n",
       " '83 QUEENS',\n",
       " 'Unspecified STATEN ISLAND',\n",
       " '28 BRONX',\n",
       " '80 QUEENS',\n",
       " '26 BRONX',\n",
       " '95 STATEN ISLAND',\n",
       " '82 QUEENS',\n",
       " '27 BRONX',\n",
       " '56 BROOKLYN',\n",
       " '84 QUEENS']"
      ]
     },
     "execution_count": 215,
     "metadata": {},
     "output_type": "execute_result"
    }
   ],
   "source": [
    "marker"
   ]
  },
  {
   "cell_type": "code",
   "execution_count": 222,
   "metadata": {
    "collapsed": false
   },
   "outputs": [],
   "source": [
    "# Drop the marked districts\n",
    "data1 = data[~data['Community Board'].isin(marker)].copy()"
   ]
  },
  {
   "cell_type": "code",
   "execution_count": 223,
   "metadata": {
    "collapsed": false
   },
   "outputs": [
    {
     "data": {
      "text/plain": [
       "59"
      ]
     },
     "execution_count": 223,
     "metadata": {},
     "output_type": "execute_result"
    }
   ],
   "source": [
    "len(data1['Community Board'].unique())"
   ]
  },
  {
   "cell_type": "markdown",
   "metadata": {},
   "source": [
    "Now, we have data1 with the correct number of unique community districts"
   ]
  },
  {
   "cell_type": "code",
   "execution_count": 595,
   "metadata": {
    "collapsed": false
   },
   "outputs": [],
   "source": [
    "# Produce your result: Generate an indicator which ranks the Community District by complaint numbers \n",
    "# on the Community district level\n",
    "complaint_numbers = data1.groupby('Community Board').count()['Unique Key']"
   ]
  },
  {
   "cell_type": "code",
   "execution_count": 596,
   "metadata": {
    "collapsed": false
   },
   "outputs": [],
   "source": [
    "complaint_numbers = pd.DataFrame(complaint_numbers.sort_values(ascending=False))\n",
    "complaint_numbers = complaint_numbers.reset_index()\n",
    "complaint_numbers.rename(columns={'Unique Key':'complaint numbers'}, inplace=True)"
   ]
  },
  {
   "cell_type": "code",
   "execution_count": 597,
   "metadata": {
    "collapsed": false
   },
   "outputs": [
    {
     "data": {
      "text/html": [
       "<div>\n",
       "<table border=\"1\" class=\"dataframe\">\n",
       "  <thead>\n",
       "    <tr style=\"text-align: right;\">\n",
       "      <th></th>\n",
       "      <th>Community Board</th>\n",
       "      <th>complaint numbers</th>\n",
       "    </tr>\n",
       "  </thead>\n",
       "  <tbody>\n",
       "    <tr>\n",
       "      <th>0</th>\n",
       "      <td>12 MANHATTAN</td>\n",
       "      <td>268053</td>\n",
       "    </tr>\n",
       "    <tr>\n",
       "      <th>1</th>\n",
       "      <td>12 QUEENS</td>\n",
       "      <td>229383</td>\n",
       "    </tr>\n",
       "    <tr>\n",
       "      <th>2</th>\n",
       "      <td>03 BROOKLYN</td>\n",
       "      <td>197306</td>\n",
       "    </tr>\n",
       "    <tr>\n",
       "      <th>3</th>\n",
       "      <td>07 QUEENS</td>\n",
       "      <td>195961</td>\n",
       "    </tr>\n",
       "    <tr>\n",
       "      <th>4</th>\n",
       "      <td>17 BROOKLYN</td>\n",
       "      <td>191720</td>\n",
       "    </tr>\n",
       "  </tbody>\n",
       "</table>\n",
       "</div>"
      ],
      "text/plain": [
       "  Community Board  complaint numbers\n",
       "0    12 MANHATTAN             268053\n",
       "1       12 QUEENS             229383\n",
       "2     03 BROOKLYN             197306\n",
       "3       07 QUEENS             195961\n",
       "4     17 BROOKLYN             191720"
      ]
     },
     "execution_count": 597,
     "metadata": {},
     "output_type": "execute_result"
    }
   ],
   "source": [
    "# community districts sorted by complaints number\n",
    "complaint_numbers.head()"
   ]
  },
  {
   "cell_type": "code",
   "execution_count": 237,
   "metadata": {
    "collapsed": true
   },
   "outputs": [],
   "source": [
    "# Safe reduced data frame (Community District level)\n",
    "complaint_numbers.to_csv(PUIdata + '/Complaint_Numbers.csv')"
   ]
  },
  {
   "cell_type": "markdown",
   "metadata": {},
   "source": [
    "# 4. Think about the interpretation of your results?\n",
    "What do you have to keep in mind when interpreting your results? Are they generable? Does the way the data is collected influence your results? To better inform city agancies it might be good to explore in more detail the underlying dempgraphics/infrastructure of a Community District becasue this might influence 311 calls. You can do this by merging external data on the Community District level to your analysis data. "
   ]
  },
  {
   "cell_type": "code",
   "execution_count": 161,
   "metadata": {
    "collapsed": false
   },
   "outputs": [],
   "source": [
    "# Population by Community District\n",
    "df_pop = pd.read_csv(PUIdata +\"/Final_Demographics.csv\")"
   ]
  },
  {
   "cell_type": "code",
   "execution_count": 289,
   "metadata": {
    "collapsed": false
   },
   "outputs": [
    {
     "data": {
      "text/plain": [
       "Index([u'FIPS', u'cd_id', u'Total Population',\n",
       "       u'Population Density (per sq. mile)', u'% Total Population: Male',\n",
       "       u'% Total Population: 18 to 24 Years',\n",
       "       u'% Total Population: 25 to 34 Years',\n",
       "       u'% Total Population: 35 to 44 Years',\n",
       "       u'% Population 5 Years And Over: Speak Only English',\n",
       "       u'% Population 5 Years And Over: Spanish or Spanish Creole',\n",
       "       ...\n",
       "       u'Employed Civilian Population 16 Years And Over: Production, transportation, and material moving  occupations: Production occupations',\n",
       "       u'Employed Civilian Population 16 Years And Over: Production, transportation, and material moving  occupations: Transportation and material moving occupations',\n",
       "       u'% Employed Civilian Population 16 Years And Over: Management, professional, and related occupations',\n",
       "       u'% Employed Civilian Population 16 Years And Over: Service occupations',\n",
       "       u'% Employed Civilian Population 16 Years And Over: Sales and office occupations',\n",
       "       u'% Employed Civilian Population 16 Years And Over: Farming, fishing, and forestry occupations',\n",
       "       u'% Employed Civilian Population 16 Years And Over: Construction, extraction, and maintenance  occupations',\n",
       "       u'% Employed Civilian Population 16 Years And Over: Production, transportation, and material moving  occupations',\n",
       "       u'% Employed Civilian Population 16 Years And Over: Production, transportation, and material moving  occupations: Production occupations',\n",
       "       u'% Employed Civilian Population 16 Years And Over: Production, transportation, and material moving  occupations: Transportation and material moving occupations'],\n",
       "      dtype='object', length=158)"
      ]
     },
     "execution_count": 289,
     "metadata": {},
     "output_type": "execute_result"
    }
   ],
   "source": [
    "# Check variables in file\n",
    "df_pop.columns"
   ]
  },
  {
   "cell_type": "code",
   "execution_count": 239,
   "metadata": {
    "collapsed": false
   },
   "outputs": [
    {
     "data": {
      "text/plain": [
       "59"
      ]
     },
     "execution_count": 239,
     "metadata": {},
     "output_type": "execute_result"
    }
   ],
   "source": [
    "# How many community districts are in file?\n",
    "cd = df_pop.cd_id.unique()\n",
    "len(cd)"
   ]
  },
  {
   "cell_type": "code",
   "execution_count": 600,
   "metadata": {
    "collapsed": false
   },
   "outputs": [
    {
     "data": {
      "text/html": [
       "<div>\n",
       "<table border=\"1\" class=\"dataframe\">\n",
       "  <thead>\n",
       "    <tr style=\"text-align: right;\">\n",
       "      <th></th>\n",
       "      <th>cd_id</th>\n",
       "      <th>Total Population</th>\n",
       "      <th>p18andover</th>\n",
       "      <th>p44andover</th>\n",
       "      <th>p35to44</th>\n",
       "      <th>p25to34</th>\n",
       "      <th>p18to24</th>\n",
       "    </tr>\n",
       "  </thead>\n",
       "  <tbody>\n",
       "    <tr>\n",
       "      <th>0</th>\n",
       "      <td>BX08</td>\n",
       "      <td>106737</td>\n",
       "      <td>83381.0</td>\n",
       "      <td>43792.0</td>\n",
       "      <td>12083.0</td>\n",
       "      <td>16053.0</td>\n",
       "      <td>11453.0</td>\n",
       "    </tr>\n",
       "    <tr>\n",
       "      <th>1</th>\n",
       "      <td>BX12</td>\n",
       "      <td>134644</td>\n",
       "      <td>103501.0</td>\n",
       "      <td>52053.0</td>\n",
       "      <td>16925.0</td>\n",
       "      <td>19241.0</td>\n",
       "      <td>15282.0</td>\n",
       "    </tr>\n",
       "    <tr>\n",
       "      <th>2</th>\n",
       "      <td>BX10</td>\n",
       "      <td>121209</td>\n",
       "      <td>96350.0</td>\n",
       "      <td>53757.0</td>\n",
       "      <td>15491.0</td>\n",
       "      <td>16654.0</td>\n",
       "      <td>10448.0</td>\n",
       "    </tr>\n",
       "    <tr>\n",
       "      <th>3</th>\n",
       "      <td>BX11</td>\n",
       "      <td>135839</td>\n",
       "      <td>104329.0</td>\n",
       "      <td>50509.0</td>\n",
       "      <td>19140.0</td>\n",
       "      <td>23677.0</td>\n",
       "      <td>11003.0</td>\n",
       "    </tr>\n",
       "    <tr>\n",
       "      <th>4</th>\n",
       "      <td>BX03</td>\n",
       "      <td>172247</td>\n",
       "      <td>123006.0</td>\n",
       "      <td>51506.0</td>\n",
       "      <td>21324.0</td>\n",
       "      <td>25648.0</td>\n",
       "      <td>24528.0</td>\n",
       "    </tr>\n",
       "  </tbody>\n",
       "</table>\n",
       "</div>"
      ],
      "text/plain": [
       "  cd_id  Total Population  p18andover  p44andover  p35to44  p25to34  p18to24\n",
       "0  BX08            106737     83381.0     43792.0  12083.0  16053.0  11453.0\n",
       "1  BX12            134644    103501.0     52053.0  16925.0  19241.0  15282.0\n",
       "2  BX10            121209     96350.0     53757.0  15491.0  16654.0  10448.0\n",
       "3  BX11            135839    104329.0     50509.0  19140.0  23677.0  11003.0\n",
       "4  BX03            172247    123006.0     51506.0  21324.0  25648.0  24528.0"
      ]
     },
     "execution_count": 600,
     "metadata": {},
     "output_type": "execute_result"
    }
   ],
   "source": [
    "# Manipulate data to get some information on demographics by Community District. \n",
    "# Think about who might be more likely to call 311\n",
    "df_pop2 = df_pop.iloc[:,[1,2,5,6,7,12]].copy()\n",
    "df_pop2['p18to24'] = np.rint(df_pop['% Total Population: 18 to 24 Years']*df_pop['Total Population']/100)\n",
    "df_pop2['p25to34'] = np.rint(df_pop['% Total Population: 25 to 34 Years']*df_pop['Total Population']/100)\n",
    "df_pop2['p35to44'] = np.rint(df_pop['% Total Population: 35 to 44 Years']*df_pop['Total Population']/100)\n",
    "df_pop2['p44andover'] = df_pop['Population 25 Years and over:']-(df_pop2['p25to34']+df_pop2['p35to44'])\n",
    "df_pop2['p18andover'] = df_pop2['p18to24']+df_pop2['p25to34']+df_pop2['p35to44']+df_pop2['p44andover']\n",
    "df_pop2 = df_pop2.iloc[:,[0,1,-1,-2,-3,-4,-5]]\n",
    "df_pop2.head()"
   ]
  },
  {
   "cell_type": "markdown",
   "metadata": {},
   "source": [
    "I select data population data with 18yo age and over above"
   ]
  },
  {
   "cell_type": "code",
   "execution_count": 601,
   "metadata": {
    "collapsed": true
   },
   "outputs": [],
   "source": [
    "# Save data frame\n",
    "df_pop2.to_csv(PUIdata + '/community_district_population.csv')"
   ]
  },
  {
   "cell_type": "code",
   "execution_count": 343,
   "metadata": {
    "collapsed": false
   },
   "outputs": [],
   "source": [
    "# Infrastructure by Community District\n",
    "df_infr = pd.read_csv(PUIdata + \"/ACS_Computer_Use_and_Internet_2014_1Year_Estimate.csv\")"
   ]
  },
  {
   "cell_type": "code",
   "execution_count": 168,
   "metadata": {
    "collapsed": false
   },
   "outputs": [
    {
     "data": {
      "text/plain": [
       "Index([u'FIPS', u'Geographic Identifier', u'Qualifying Name', u'Households',\n",
       "       u'Households: With An Internet Subscription',\n",
       "       u'Households: Dial-Up Alone', u'Households: Dsl',\n",
       "       u'Households: With Mobile Broadband',\n",
       "       u'Households: Without Mobile Broadband', u'Households: Cable Modem',\n",
       "       u'Households: With Mobile Broadband.1',\n",
       "       u'Households: Without Mobile Broadband.1', u'Households: Fiber-Optic',\n",
       "       u'Households: With Mobile Broadband.2',\n",
       "       u'Households: Without Mobile Broadband.2',\n",
       "       u'Households: Satellite Internet Service',\n",
       "       u'Households: With Mobile Broadband.3',\n",
       "       u'Households: Without Mobile Broadband.3',\n",
       "       u'Households: Two or More Fixed Broadband Types, or Other',\n",
       "       u'Households: With Mobile Broadband.4',\n",
       "       u'Households: Without Mobile Broadband.4',\n",
       "       u'Households: Mobile Broadband Alone or With Dialup',\n",
       "       u'Households: Internet Access Without A Subscription',\n",
       "       u'Households: No Internet Access',\n",
       "       u'% Households: With An Internet Subscription', u'Households.1',\n",
       "       u'Households: Has A Computer',\n",
       "       u'Households: With Dial-Up Internet Subscription Alone',\n",
       "       u'Households: With A Broadband Internet Subscription',\n",
       "       u'Households: Without An Internet Subscription',\n",
       "       u'Households: No Computer'],\n",
       "      dtype='object')"
      ]
     },
     "execution_count": 168,
     "metadata": {},
     "output_type": "execute_result"
    }
   ],
   "source": [
    "# Check variables in file\n",
    "df_infr.columns"
   ]
  },
  {
   "cell_type": "code",
   "execution_count": 171,
   "metadata": {
    "collapsed": false
   },
   "outputs": [
    {
     "data": {
      "text/plain": [
       "59"
      ]
     },
     "execution_count": 171,
     "metadata": {},
     "output_type": "execute_result"
    }
   ],
   "source": [
    "# How many community districts are in file? \n",
    "len(df_infr['Qualifying Name'])"
   ]
  },
  {
   "cell_type": "code",
   "execution_count": 280,
   "metadata": {
    "collapsed": false
   },
   "outputs": [],
   "source": [
    "# Manipulate data to get some information on internet/broadband useage by Community District\n",
    "# Aggregate the mobile subscription data\n",
    "df_infr_gr = df_infr.groupby('Qualifying Name').sum()"
   ]
  },
  {
   "cell_type": "code",
   "execution_count": 344,
   "metadata": {
    "collapsed": false
   },
   "outputs": [],
   "source": [
    "# Aggregate internet type by high and low connections\n",
    "\n",
    "# high connections = broadband\n",
    "df_infr['High Connections'] = df_infr['Households: With A Broadband Internet Subscription']\n",
    "\n",
    "# low connections = dial up + without internet + no computer\n",
    "df_infr['Low Connections'] = df_infr['Households: With Dial-Up Internet Subscription Alone']\\\n",
    "                                + df_infr['Households: Without An Internet Subscription']\\\n",
    "                                + df_infr['Households: No Computer']\n",
    "df_infr = df_infr.loc[:,['Qualifying Name','High Connections','Low Connections']]"
   ]
  },
  {
   "cell_type": "code",
   "execution_count": 345,
   "metadata": {
    "collapsed": false
   },
   "outputs": [
    {
     "data": {
      "text/html": [
       "<div>\n",
       "<table border=\"1\" class=\"dataframe\">\n",
       "  <thead>\n",
       "    <tr style=\"text-align: right;\">\n",
       "      <th></th>\n",
       "      <th>Qualifying Name</th>\n",
       "      <th>High Connections</th>\n",
       "      <th>Low Connections</th>\n",
       "    </tr>\n",
       "  </thead>\n",
       "  <tbody>\n",
       "    <tr>\n",
       "      <th>0</th>\n",
       "      <td>NYC-Bronx Community District 8--Riverdale, New...</td>\n",
       "      <td>30943</td>\n",
       "      <td>11092</td>\n",
       "    </tr>\n",
       "    <tr>\n",
       "      <th>1</th>\n",
       "      <td>NYC-Bronx Community District 12--Wakefield, Ne...</td>\n",
       "      <td>31435</td>\n",
       "      <td>13395</td>\n",
       "    </tr>\n",
       "    <tr>\n",
       "      <th>2</th>\n",
       "      <td>NYC-Bronx Community District 10--Co-op City, N...</td>\n",
       "      <td>32333</td>\n",
       "      <td>14717</td>\n",
       "    </tr>\n",
       "    <tr>\n",
       "      <th>3</th>\n",
       "      <td>NYC-Bronx Community District 11--Pelham Parkwa...</td>\n",
       "      <td>31278</td>\n",
       "      <td>13644</td>\n",
       "    </tr>\n",
       "    <tr>\n",
       "      <th>4</th>\n",
       "      <td>NYC-Bronx Community District 3 &amp; 6--Belmont, N...</td>\n",
       "      <td>33408</td>\n",
       "      <td>24148</td>\n",
       "    </tr>\n",
       "  </tbody>\n",
       "</table>\n",
       "</div>"
      ],
      "text/plain": [
       "                                     Qualifying Name  High Connections  \\\n",
       "0  NYC-Bronx Community District 8--Riverdale, New...             30943   \n",
       "1  NYC-Bronx Community District 12--Wakefield, Ne...             31435   \n",
       "2  NYC-Bronx Community District 10--Co-op City, N...             32333   \n",
       "3  NYC-Bronx Community District 11--Pelham Parkwa...             31278   \n",
       "4  NYC-Bronx Community District 3 & 6--Belmont, N...             33408   \n",
       "\n",
       "   Low Connections  \n",
       "0            11092  \n",
       "1            13395  \n",
       "2            14717  \n",
       "3            13644  \n",
       "4            24148  "
      ]
     },
     "execution_count": 345,
     "metadata": {},
     "output_type": "execute_result"
    }
   ],
   "source": [
    "df_infr.head()"
   ]
  },
  {
   "cell_type": "code",
   "execution_count": 346,
   "metadata": {
    "collapsed": true
   },
   "outputs": [],
   "source": [
    "# Save data frame \n",
    "df_infr.to_csv(PUIdata + '/community_district_infrastructure.csv')"
   ]
  },
  {
   "cell_type": "markdown",
   "metadata": {},
   "source": [
    "# 5. Inform your results by linking datasets\n",
    "Now you want to link the three data frames to produce summary statistics for Community Districts which show a high number of complaints vs. Community Districts which show a lower number of complaints. Please keep in mind that the identifiers used for the linkage (Community Dostrict IDs) should be recored the same way. Use regular expressions to harmonize the identifiers if possible. The identifiers should look like BK01, BK02, etc.\n",
    "https://docs.python.org/2/library/re.html"
   ]
  },
  {
   "cell_type": "code",
   "execution_count": 602,
   "metadata": {
    "collapsed": false
   },
   "outputs": [
    {
     "data": {
      "text/html": [
       "<div>\n",
       "<table border=\"1\" class=\"dataframe\">\n",
       "  <thead>\n",
       "    <tr style=\"text-align: right;\">\n",
       "      <th></th>\n",
       "      <th>Community Board</th>\n",
       "      <th>complaint numbers</th>\n",
       "    </tr>\n",
       "  </thead>\n",
       "  <tbody>\n",
       "    <tr>\n",
       "      <th>0</th>\n",
       "      <td>12 MANHATTAN</td>\n",
       "      <td>268053</td>\n",
       "    </tr>\n",
       "    <tr>\n",
       "      <th>1</th>\n",
       "      <td>12 QUEENS</td>\n",
       "      <td>229383</td>\n",
       "    </tr>\n",
       "    <tr>\n",
       "      <th>2</th>\n",
       "      <td>03 BROOKLYN</td>\n",
       "      <td>197306</td>\n",
       "    </tr>\n",
       "    <tr>\n",
       "      <th>3</th>\n",
       "      <td>07 QUEENS</td>\n",
       "      <td>195961</td>\n",
       "    </tr>\n",
       "    <tr>\n",
       "      <th>4</th>\n",
       "      <td>17 BROOKLYN</td>\n",
       "      <td>191720</td>\n",
       "    </tr>\n",
       "  </tbody>\n",
       "</table>\n",
       "</div>"
      ],
      "text/plain": [
       "  Community Board  complaint numbers\n",
       "0    12 MANHATTAN             268053\n",
       "1       12 QUEENS             229383\n",
       "2     03 BROOKLYN             197306\n",
       "3       07 QUEENS             195961\n",
       "4     17 BROOKLYN             191720"
      ]
     },
     "execution_count": 602,
     "metadata": {},
     "output_type": "execute_result"
    }
   ],
   "source": [
    "# Harmonize identifier of dataframe 1\n",
    "complaint_numbers.head()"
   ]
  },
  {
   "cell_type": "code",
   "execution_count": 327,
   "metadata": {
    "collapsed": false
   },
   "outputs": [],
   "source": [
    "# create a dictionary for borough abbreviation\n",
    "comm_dist_map = {'MANHATTAN':'MN', \n",
    "                 'BROOKLYN':'BK', \n",
    "                 'QUEENS':'QN', \n",
    "                 'BRONX':'BX', \n",
    "                 'STATEN ISLAND':'SI'}"
   ]
  },
  {
   "cell_type": "code",
   "execution_count": 609,
   "metadata": {
    "collapsed": false
   },
   "outputs": [],
   "source": [
    "def get_key_from_full_name(Series):\n",
    "    borough = Series[3:]\n",
    "    abbr = comm_dist_map[borough]\n",
    "    return abbr + Series[:2]"
   ]
  },
  {
   "cell_type": "code",
   "execution_count": 610,
   "metadata": {
    "collapsed": false
   },
   "outputs": [],
   "source": [
    "complaint_numbers['key'] = complaint_numbers['Community Board'].apply(get_key_from_full_name)"
   ]
  },
  {
   "cell_type": "code",
   "execution_count": 611,
   "metadata": {
    "collapsed": false
   },
   "outputs": [
    {
     "data": {
      "text/html": [
       "<div>\n",
       "<table border=\"1\" class=\"dataframe\">\n",
       "  <thead>\n",
       "    <tr style=\"text-align: right;\">\n",
       "      <th></th>\n",
       "      <th>Community Board</th>\n",
       "      <th>complaint numbers</th>\n",
       "      <th>key</th>\n",
       "    </tr>\n",
       "  </thead>\n",
       "  <tbody>\n",
       "    <tr>\n",
       "      <th>0</th>\n",
       "      <td>12 MANHATTAN</td>\n",
       "      <td>268053</td>\n",
       "      <td>MN12</td>\n",
       "    </tr>\n",
       "    <tr>\n",
       "      <th>1</th>\n",
       "      <td>12 QUEENS</td>\n",
       "      <td>229383</td>\n",
       "      <td>QN12</td>\n",
       "    </tr>\n",
       "    <tr>\n",
       "      <th>2</th>\n",
       "      <td>03 BROOKLYN</td>\n",
       "      <td>197306</td>\n",
       "      <td>BK03</td>\n",
       "    </tr>\n",
       "    <tr>\n",
       "      <th>3</th>\n",
       "      <td>07 QUEENS</td>\n",
       "      <td>195961</td>\n",
       "      <td>QN07</td>\n",
       "    </tr>\n",
       "    <tr>\n",
       "      <th>4</th>\n",
       "      <td>17 BROOKLYN</td>\n",
       "      <td>191720</td>\n",
       "      <td>BK17</td>\n",
       "    </tr>\n",
       "  </tbody>\n",
       "</table>\n",
       "</div>"
      ],
      "text/plain": [
       "  Community Board  complaint numbers   key\n",
       "0    12 MANHATTAN             268053  MN12\n",
       "1       12 QUEENS             229383  QN12\n",
       "2     03 BROOKLYN             197306  BK03\n",
       "3       07 QUEENS             195961  QN07\n",
       "4     17 BROOKLYN             191720  BK17"
      ]
     },
     "execution_count": 611,
     "metadata": {},
     "output_type": "execute_result"
    }
   ],
   "source": [
    "complaint_numbers.head()"
   ]
  },
  {
   "cell_type": "code",
   "execution_count": 603,
   "metadata": {
    "collapsed": false
   },
   "outputs": [
    {
     "data": {
      "text/html": [
       "<div>\n",
       "<table border=\"1\" class=\"dataframe\">\n",
       "  <thead>\n",
       "    <tr style=\"text-align: right;\">\n",
       "      <th></th>\n",
       "      <th>cd_id</th>\n",
       "      <th>Total Population</th>\n",
       "      <th>p18andover</th>\n",
       "      <th>p44andover</th>\n",
       "      <th>p35to44</th>\n",
       "      <th>p25to34</th>\n",
       "      <th>p18to24</th>\n",
       "    </tr>\n",
       "  </thead>\n",
       "  <tbody>\n",
       "    <tr>\n",
       "      <th>0</th>\n",
       "      <td>BX08</td>\n",
       "      <td>106737</td>\n",
       "      <td>83381.0</td>\n",
       "      <td>43792.0</td>\n",
       "      <td>12083.0</td>\n",
       "      <td>16053.0</td>\n",
       "      <td>11453.0</td>\n",
       "    </tr>\n",
       "    <tr>\n",
       "      <th>1</th>\n",
       "      <td>BX12</td>\n",
       "      <td>134644</td>\n",
       "      <td>103501.0</td>\n",
       "      <td>52053.0</td>\n",
       "      <td>16925.0</td>\n",
       "      <td>19241.0</td>\n",
       "      <td>15282.0</td>\n",
       "    </tr>\n",
       "    <tr>\n",
       "      <th>2</th>\n",
       "      <td>BX10</td>\n",
       "      <td>121209</td>\n",
       "      <td>96350.0</td>\n",
       "      <td>53757.0</td>\n",
       "      <td>15491.0</td>\n",
       "      <td>16654.0</td>\n",
       "      <td>10448.0</td>\n",
       "    </tr>\n",
       "    <tr>\n",
       "      <th>3</th>\n",
       "      <td>BX11</td>\n",
       "      <td>135839</td>\n",
       "      <td>104329.0</td>\n",
       "      <td>50509.0</td>\n",
       "      <td>19140.0</td>\n",
       "      <td>23677.0</td>\n",
       "      <td>11003.0</td>\n",
       "    </tr>\n",
       "    <tr>\n",
       "      <th>4</th>\n",
       "      <td>BX03</td>\n",
       "      <td>172247</td>\n",
       "      <td>123006.0</td>\n",
       "      <td>51506.0</td>\n",
       "      <td>21324.0</td>\n",
       "      <td>25648.0</td>\n",
       "      <td>24528.0</td>\n",
       "    </tr>\n",
       "  </tbody>\n",
       "</table>\n",
       "</div>"
      ],
      "text/plain": [
       "  cd_id  Total Population  p18andover  p44andover  p35to44  p25to34  p18to24\n",
       "0  BX08            106737     83381.0     43792.0  12083.0  16053.0  11453.0\n",
       "1  BX12            134644    103501.0     52053.0  16925.0  19241.0  15282.0\n",
       "2  BX10            121209     96350.0     53757.0  15491.0  16654.0  10448.0\n",
       "3  BX11            135839    104329.0     50509.0  19140.0  23677.0  11003.0\n",
       "4  BX03            172247    123006.0     51506.0  21324.0  25648.0  24528.0"
      ]
     },
     "execution_count": 603,
     "metadata": {},
     "output_type": "execute_result"
    }
   ],
   "source": [
    "# Harmonize identifier of dataframe 2\n",
    "df_pop2.head()"
   ]
  },
  {
   "cell_type": "code",
   "execution_count": 606,
   "metadata": {
    "collapsed": false
   },
   "outputs": [
    {
     "data": {
      "text/html": [
       "<div>\n",
       "<table border=\"1\" class=\"dataframe\">\n",
       "  <thead>\n",
       "    <tr style=\"text-align: right;\">\n",
       "      <th></th>\n",
       "      <th>cd_id</th>\n",
       "      <th>Total Population</th>\n",
       "      <th>p18andover</th>\n",
       "      <th>p44andover</th>\n",
       "      <th>p35to44</th>\n",
       "      <th>p25to34</th>\n",
       "      <th>p18to24</th>\n",
       "      <th>key</th>\n",
       "    </tr>\n",
       "  </thead>\n",
       "  <tbody>\n",
       "    <tr>\n",
       "      <th>0</th>\n",
       "      <td>BX08</td>\n",
       "      <td>106737</td>\n",
       "      <td>83381.0</td>\n",
       "      <td>43792.0</td>\n",
       "      <td>12083.0</td>\n",
       "      <td>16053.0</td>\n",
       "      <td>11453.0</td>\n",
       "      <td>BX08</td>\n",
       "    </tr>\n",
       "    <tr>\n",
       "      <th>1</th>\n",
       "      <td>BX12</td>\n",
       "      <td>134644</td>\n",
       "      <td>103501.0</td>\n",
       "      <td>52053.0</td>\n",
       "      <td>16925.0</td>\n",
       "      <td>19241.0</td>\n",
       "      <td>15282.0</td>\n",
       "      <td>BX12</td>\n",
       "    </tr>\n",
       "    <tr>\n",
       "      <th>2</th>\n",
       "      <td>BX10</td>\n",
       "      <td>121209</td>\n",
       "      <td>96350.0</td>\n",
       "      <td>53757.0</td>\n",
       "      <td>15491.0</td>\n",
       "      <td>16654.0</td>\n",
       "      <td>10448.0</td>\n",
       "      <td>BX10</td>\n",
       "    </tr>\n",
       "    <tr>\n",
       "      <th>3</th>\n",
       "      <td>BX11</td>\n",
       "      <td>135839</td>\n",
       "      <td>104329.0</td>\n",
       "      <td>50509.0</td>\n",
       "      <td>19140.0</td>\n",
       "      <td>23677.0</td>\n",
       "      <td>11003.0</td>\n",
       "      <td>BX11</td>\n",
       "    </tr>\n",
       "    <tr>\n",
       "      <th>4</th>\n",
       "      <td>BX03</td>\n",
       "      <td>172247</td>\n",
       "      <td>123006.0</td>\n",
       "      <td>51506.0</td>\n",
       "      <td>21324.0</td>\n",
       "      <td>25648.0</td>\n",
       "      <td>24528.0</td>\n",
       "      <td>BX03</td>\n",
       "    </tr>\n",
       "  </tbody>\n",
       "</table>\n",
       "</div>"
      ],
      "text/plain": [
       "  cd_id  Total Population  p18andover  p44andover  p35to44  p25to34  p18to24  \\\n",
       "0  BX08            106737     83381.0     43792.0  12083.0  16053.0  11453.0   \n",
       "1  BX12            134644    103501.0     52053.0  16925.0  19241.0  15282.0   \n",
       "2  BX10            121209     96350.0     53757.0  15491.0  16654.0  10448.0   \n",
       "3  BX11            135839    104329.0     50509.0  19140.0  23677.0  11003.0   \n",
       "4  BX03            172247    123006.0     51506.0  21324.0  25648.0  24528.0   \n",
       "\n",
       "    key  \n",
       "0  BX08  \n",
       "1  BX12  \n",
       "2  BX10  \n",
       "3  BX11  \n",
       "4  BX03  "
      ]
     },
     "execution_count": 606,
     "metadata": {},
     "output_type": "execute_result"
    }
   ],
   "source": [
    "# for dataframe 2, it is the first 4 character in cd_id\n",
    "df_pop2['key'] = df_pop2['cd_id'].str[:4]\n",
    "df_pop2.head()"
   ]
  },
  {
   "cell_type": "code",
   "execution_count": 354,
   "metadata": {
    "collapsed": false
   },
   "outputs": [
    {
     "data": {
      "text/plain": [
       "0     NYC-Bronx Community District 8--Riverdale, New...\n",
       "1     NYC-Bronx Community District 12--Wakefield, Ne...\n",
       "2     NYC-Bronx Community District 10--Co-op City, N...\n",
       "3     NYC-Bronx Community District 11--Pelham Parkwa...\n",
       "4     NYC-Bronx Community District 3 & 6--Belmont, N...\n",
       "5     NYC-Bronx Community District 3 & 6--Belmont, N...\n",
       "6     NYC-Bronx Community District 7--Bedford Park, ...\n",
       "7     NYC-Bronx Community District 5--Morris Heights...\n",
       "8     NYC-Bronx Community District 4--Concourse, New...\n",
       "9     NYC-Bronx Community District 9--Castle Hill, N...\n",
       "10    NYC-Bronx Community District 1 & 2--Hunts Poin...\n",
       "11    NYC-Bronx Community District 1 & 2--Hunts Poin...\n",
       "12    NYC-Manhattan Community District 12--Washingto...\n",
       "13    NYC-Manhattan Community District 9--Hamilton H...\n",
       "14    NYC-Manhattan Community District 10--Central H...\n",
       "15    NYC-Manhattan Community District 11--East Harl...\n",
       "16    NYC-Manhattan Community District 8--Upper East...\n",
       "17    NYC-Manhattan Community District 7--Upper West...\n",
       "18    NYC-Manhattan Community District 4 & 5--Chelse...\n",
       "19    NYC-Manhattan Community District 4 & 5--Chelse...\n",
       "20    NYC-Manhattan Community District 6--Murray Hil...\n",
       "21    NYC-Manhattan Community District 3--Chinatown ...\n",
       "22    NYC-Manhattan Community District 1 & 2--Batter...\n",
       "23    NYC-Manhattan Community District 1 & 2--Batter...\n",
       "24    NYC-Staten Island Community District 3--Totten...\n",
       "25    NYC-Staten Island Community District 2--New Sp...\n",
       "26    NYC-Staten Island Community District 1--Port R...\n",
       "27    NYC-Brooklyn Community District 1--Greenpoint ...\n",
       "28    NYC-Brooklyn Community District 4--Bushwick PU...\n",
       "29    NYC-Brooklyn Community District 3--Bedford-Stu...\n",
       "30    NYC-Brooklyn Community District 2--Brooklyn He...\n",
       "31    NYC-Brooklyn Community District 6--Park Slope,...\n",
       "32    NYC-Brooklyn Community District 8--Crown Heigh...\n",
       "33    NYC-Brooklyn Community District 16--Brownsvill...\n",
       "34    NYC-Brooklyn Community District 5--East New Yo...\n",
       "35    NYC-Brooklyn Community District 18--Canarsie &...\n",
       "36    NYC-Brooklyn Community District 17--East Flatb...\n",
       "37    NYC-Brooklyn Community District 9--Crown Heigh...\n",
       "38    NYC-Brooklyn Community District 7--Sunset Park...\n",
       "39    NYC-Brooklyn Community District 10--Bay Ridge ...\n",
       "40    NYC-Brooklyn Community District 12--Borough Pa...\n",
       "41    NYC-Brooklyn Community District 14--Flatbush &...\n",
       "42    NYC-Brooklyn Community District 15--Sheepshead...\n",
       "43    NYC-Brooklyn Community District 11--Bensonhurs...\n",
       "44    NYC-Brooklyn Community District 13--Brighton B...\n",
       "45    NYC-Queens Community District 1--Astoria & Lon...\n",
       "46    NYC-Queens Community District 3--Jackson Heigh...\n",
       "47    NYC-Queens Community District 7--Flushing, New...\n",
       "48    NYC-Queens Community District 11--Bayside, New...\n",
       "49    NYC-Queens Community District 13--Queens Villa...\n",
       "50    NYC-Queens Community District 8--Briarwood, Ne...\n",
       "51    NYC-Queens Community District 4--Elmhurst & So...\n",
       "52    NYC-Queens Community District 6--Forest Hills ...\n",
       "53    NYC-Queens Community District 2--Sunnyside & W...\n",
       "54    NYC-Queens Community District 5--Ridgewood, Ne...\n",
       "55    NYC-Queens Community District 9--Richmond Hill...\n",
       "56    NYC-Queens Community District 12--Jamaica, New...\n",
       "57    NYC-Queens Community District 10--Howard Beach...\n",
       "58    NYC-Queens Community District 14--Far Rockaway...\n",
       "Name: Qualifying Name, dtype: object"
      ]
     },
     "execution_count": 354,
     "metadata": {},
     "output_type": "execute_result"
    }
   ],
   "source": [
    "# Harmonize identifier of dataframe 3\n",
    "qname = df_infr['Qualifying Name']\n",
    "qname"
   ]
  },
  {
   "cell_type": "markdown",
   "metadata": {},
   "source": [
    "Here we can see the community district names are really different than the previous 2 dataframe. We have to use regex. I select firs word after \"NYC-\" for borough and all characters after \"District\" before \"-\" for the community district number."
   ]
  },
  {
   "cell_type": "code",
   "execution_count": 432,
   "metadata": {
    "collapsed": false
   },
   "outputs": [],
   "source": [
    "key_df3 = []\n",
    "is_second = False\n",
    "for name in qname:\n",
    "    # to select the desired element\n",
    "    expr = re.findall(r'NYC\\-(\\w+.*)\\sCommunity District\\s(\\b\\w+.*)\\-\\-', name)\n",
    "    borough = expr[0][0]\n",
    "    abbr = comm_dist_map[borough.upper()]\n",
    "    cd_number = re.findall(r'(\\b\\d+\\b)',expr[0][1])\n",
    "    # there are some community district names called twice (with &) \n",
    "    # so we have to separate them into 2 different community districts\n",
    "    if is_second == False:\n",
    "        if len(cd_number) == 2:\n",
    "            is_second = True\n",
    "        key = abbr + str(\"{0:0=2d}\".format(int(cd_number[0])))\n",
    "    else:\n",
    "        key = abbr + str(\"{0:0=2d}\".format(int(cd_number[1])))\n",
    "        is_second = False\n",
    "    key_df3.append(key)"
   ]
  },
  {
   "cell_type": "code",
   "execution_count": 433,
   "metadata": {
    "collapsed": false
   },
   "outputs": [
    {
     "data": {
      "text/html": [
       "<div>\n",
       "<table border=\"1\" class=\"dataframe\">\n",
       "  <thead>\n",
       "    <tr style=\"text-align: right;\">\n",
       "      <th></th>\n",
       "      <th>Qualifying Name</th>\n",
       "      <th>High Connections</th>\n",
       "      <th>Low Connections</th>\n",
       "      <th>key</th>\n",
       "    </tr>\n",
       "  </thead>\n",
       "  <tbody>\n",
       "    <tr>\n",
       "      <th>0</th>\n",
       "      <td>NYC-Bronx Community District 8--Riverdale, New...</td>\n",
       "      <td>30943</td>\n",
       "      <td>11092</td>\n",
       "      <td>BX08</td>\n",
       "    </tr>\n",
       "    <tr>\n",
       "      <th>1</th>\n",
       "      <td>NYC-Bronx Community District 12--Wakefield, Ne...</td>\n",
       "      <td>31435</td>\n",
       "      <td>13395</td>\n",
       "      <td>BX12</td>\n",
       "    </tr>\n",
       "    <tr>\n",
       "      <th>2</th>\n",
       "      <td>NYC-Bronx Community District 10--Co-op City, N...</td>\n",
       "      <td>32333</td>\n",
       "      <td>14717</td>\n",
       "      <td>BX10</td>\n",
       "    </tr>\n",
       "    <tr>\n",
       "      <th>3</th>\n",
       "      <td>NYC-Bronx Community District 11--Pelham Parkwa...</td>\n",
       "      <td>31278</td>\n",
       "      <td>13644</td>\n",
       "      <td>BX11</td>\n",
       "    </tr>\n",
       "    <tr>\n",
       "      <th>4</th>\n",
       "      <td>NYC-Bronx Community District 3 &amp; 6--Belmont, N...</td>\n",
       "      <td>33408</td>\n",
       "      <td>24148</td>\n",
       "      <td>BX03</td>\n",
       "    </tr>\n",
       "  </tbody>\n",
       "</table>\n",
       "</div>"
      ],
      "text/plain": [
       "                                     Qualifying Name  High Connections  \\\n",
       "0  NYC-Bronx Community District 8--Riverdale, New...             30943   \n",
       "1  NYC-Bronx Community District 12--Wakefield, Ne...             31435   \n",
       "2  NYC-Bronx Community District 10--Co-op City, N...             32333   \n",
       "3  NYC-Bronx Community District 11--Pelham Parkwa...             31278   \n",
       "4  NYC-Bronx Community District 3 & 6--Belmont, N...             33408   \n",
       "\n",
       "   Low Connections   key  \n",
       "0            11092  BX08  \n",
       "1            13395  BX12  \n",
       "2            14717  BX10  \n",
       "3            13644  BX11  \n",
       "4            24148  BX03  "
      ]
     },
     "execution_count": 433,
     "metadata": {},
     "output_type": "execute_result"
    }
   ],
   "source": [
    "# return the key to dataframe\n",
    "df_infr['key'] = key_df3\n",
    "df_infr.head()"
   ]
  },
  {
   "cell_type": "code",
   "execution_count": 628,
   "metadata": {
    "collapsed": false
   },
   "outputs": [
    {
     "data": {
      "text/html": [
       "<div>\n",
       "<table border=\"1\" class=\"dataframe\">\n",
       "  <thead>\n",
       "    <tr style=\"text-align: right;\">\n",
       "      <th></th>\n",
       "      <th>Community Board</th>\n",
       "      <th>complaints</th>\n",
       "      <th>key</th>\n",
       "      <th>Total Population</th>\n",
       "      <th>p18andover</th>\n",
       "      <th>p44andover</th>\n",
       "      <th>p35to44</th>\n",
       "      <th>p25to34</th>\n",
       "      <th>p18to24</th>\n",
       "      <th>high_connections</th>\n",
       "      <th>low_connections</th>\n",
       "    </tr>\n",
       "  </thead>\n",
       "  <tbody>\n",
       "    <tr>\n",
       "      <th>0</th>\n",
       "      <td>12 MANHATTAN</td>\n",
       "      <td>268053</td>\n",
       "      <td>MN12</td>\n",
       "      <td>224365</td>\n",
       "      <td>182770.0</td>\n",
       "      <td>80729.0</td>\n",
       "      <td>32555.0</td>\n",
       "      <td>43706.0</td>\n",
       "      <td>25780.0</td>\n",
       "      <td>56092</td>\n",
       "      <td>19260</td>\n",
       "    </tr>\n",
       "    <tr>\n",
       "      <th>1</th>\n",
       "      <td>12 QUEENS</td>\n",
       "      <td>229383</td>\n",
       "      <td>QN12</td>\n",
       "      <td>251002</td>\n",
       "      <td>190054.0</td>\n",
       "      <td>95451.0</td>\n",
       "      <td>31953.0</td>\n",
       "      <td>36998.0</td>\n",
       "      <td>25652.0</td>\n",
       "      <td>53106</td>\n",
       "      <td>21742</td>\n",
       "    </tr>\n",
       "    <tr>\n",
       "      <th>2</th>\n",
       "      <td>03 BROOKLYN</td>\n",
       "      <td>197306</td>\n",
       "      <td>BK03</td>\n",
       "      <td>133235</td>\n",
       "      <td>102694.0</td>\n",
       "      <td>44430.0</td>\n",
       "      <td>15389.0</td>\n",
       "      <td>25888.0</td>\n",
       "      <td>16987.0</td>\n",
       "      <td>32660</td>\n",
       "      <td>18028</td>\n",
       "    </tr>\n",
       "    <tr>\n",
       "      <th>3</th>\n",
       "      <td>07 QUEENS</td>\n",
       "      <td>195961</td>\n",
       "      <td>QN07</td>\n",
       "      <td>256742</td>\n",
       "      <td>212646.0</td>\n",
       "      <td>119064.0</td>\n",
       "      <td>35841.0</td>\n",
       "      <td>36098.0</td>\n",
       "      <td>21643.0</td>\n",
       "      <td>67680</td>\n",
       "      <td>21526</td>\n",
       "    </tr>\n",
       "    <tr>\n",
       "      <th>4</th>\n",
       "      <td>17 BROOKLYN</td>\n",
       "      <td>191720</td>\n",
       "      <td>BK17</td>\n",
       "      <td>137526</td>\n",
       "      <td>108545.0</td>\n",
       "      <td>57138.0</td>\n",
       "      <td>18222.0</td>\n",
       "      <td>20340.0</td>\n",
       "      <td>12845.0</td>\n",
       "      <td>34990</td>\n",
       "      <td>15721</td>\n",
       "    </tr>\n",
       "  </tbody>\n",
       "</table>\n",
       "</div>"
      ],
      "text/plain": [
       "  Community Board  complaints   key  Total Population  p18andover  p44andover  \\\n",
       "0    12 MANHATTAN      268053  MN12            224365    182770.0     80729.0   \n",
       "1       12 QUEENS      229383  QN12            251002    190054.0     95451.0   \n",
       "2     03 BROOKLYN      197306  BK03            133235    102694.0     44430.0   \n",
       "3       07 QUEENS      195961  QN07            256742    212646.0    119064.0   \n",
       "4     17 BROOKLYN      191720  BK17            137526    108545.0     57138.0   \n",
       "\n",
       "   p35to44  p25to34  p18to24  high_connections  low_connections  \n",
       "0  32555.0  43706.0  25780.0             56092            19260  \n",
       "1  31953.0  36998.0  25652.0             53106            21742  \n",
       "2  15389.0  25888.0  16987.0             32660            18028  \n",
       "3  35841.0  36098.0  21643.0             67680            21526  \n",
       "4  18222.0  20340.0  12845.0             34990            15721  "
      ]
     },
     "execution_count": 628,
     "metadata": {},
     "output_type": "execute_result"
    }
   ],
   "source": [
    "# Link the 3 dataframes\n",
    "df = complaint_numbers.merge(df_pop2,on='key').merge(df_infr,on='key')\n",
    "df = df.drop(['cd_id','Qualifying Name'], axis=1)\n",
    "df = df.rename(columns = {'complaint numbers':'complaints',\n",
    "                         'High Connections':'high_connections',\n",
    "                         'Low Connections':'low_connections'})\n",
    "df.head()"
   ]
  },
  {
   "cell_type": "code",
   "execution_count": 629,
   "metadata": {
    "collapsed": false
   },
   "outputs": [],
   "source": [
    "hi_lo = []\n",
    "for complaint in df.complaints:\n",
    "    if complaint < df.complaints.mean():\n",
    "        hi_lo.append('low_complaints')\n",
    "    else:\n",
    "        hi_lo.append('high_complaints')\n",
    "\n",
    "df['hi/lo'] = hi_lo"
   ]
  },
  {
   "cell_type": "code",
   "execution_count": 630,
   "metadata": {
    "collapsed": false
   },
   "outputs": [
    {
     "data": {
      "text/html": [
       "<div>\n",
       "<table border=\"1\" class=\"dataframe\">\n",
       "  <thead>\n",
       "    <tr style=\"text-align: right;\">\n",
       "      <th></th>\n",
       "      <th></th>\n",
       "      <th>Total Population</th>\n",
       "      <th>complaints</th>\n",
       "      <th>high_connections</th>\n",
       "      <th>low_connections</th>\n",
       "      <th>p18andover</th>\n",
       "      <th>p18to24</th>\n",
       "      <th>p25to34</th>\n",
       "      <th>p35to44</th>\n",
       "      <th>p44andover</th>\n",
       "    </tr>\n",
       "    <tr>\n",
       "      <th>hi/lo</th>\n",
       "      <th></th>\n",
       "      <th></th>\n",
       "      <th></th>\n",
       "      <th></th>\n",
       "      <th></th>\n",
       "      <th></th>\n",
       "      <th></th>\n",
       "      <th></th>\n",
       "      <th></th>\n",
       "      <th></th>\n",
       "    </tr>\n",
       "  </thead>\n",
       "  <tbody>\n",
       "    <tr>\n",
       "      <th rowspan=\"8\" valign=\"top\">high_complaints</th>\n",
       "      <th>count</th>\n",
       "      <td>28.000000</td>\n",
       "      <td>28.000000</td>\n",
       "      <td>28.000000</td>\n",
       "      <td>28.000000</td>\n",
       "      <td>28.000000</td>\n",
       "      <td>28.000000</td>\n",
       "      <td>28.000000</td>\n",
       "      <td>28.000000</td>\n",
       "      <td>28.000000</td>\n",
       "    </tr>\n",
       "    <tr>\n",
       "      <th>mean</th>\n",
       "      <td>170994.500000</td>\n",
       "      <td>171201.928571</td>\n",
       "      <td>46777.892857</td>\n",
       "      <td>16438.500000</td>\n",
       "      <td>134728.821429</td>\n",
       "      <td>16608.500000</td>\n",
       "      <td>30255.535714</td>\n",
       "      <td>23611.107143</td>\n",
       "      <td>64253.678571</td>\n",
       "    </tr>\n",
       "    <tr>\n",
       "      <th>std</th>\n",
       "      <td>36494.579636</td>\n",
       "      <td>29328.379401</td>\n",
       "      <td>17852.445778</td>\n",
       "      <td>3887.299820</td>\n",
       "      <td>32034.816543</td>\n",
       "      <td>4171.466040</td>\n",
       "      <td>9682.295142</td>\n",
       "      <td>5778.455358</td>\n",
       "      <td>20232.786017</td>\n",
       "    </tr>\n",
       "    <tr>\n",
       "      <th>min</th>\n",
       "      <td>126747.000000</td>\n",
       "      <td>139706.000000</td>\n",
       "      <td>25772.000000</td>\n",
       "      <td>9460.000000</td>\n",
       "      <td>95985.000000</td>\n",
       "      <td>8942.000000</td>\n",
       "      <td>17556.000000</td>\n",
       "      <td>15311.000000</td>\n",
       "      <td>36407.000000</td>\n",
       "    </tr>\n",
       "    <tr>\n",
       "      <th>25%</th>\n",
       "      <td>137742.750000</td>\n",
       "      <td>149991.000000</td>\n",
       "      <td>33986.500000</td>\n",
       "      <td>13740.750000</td>\n",
       "      <td>107827.250000</td>\n",
       "      <td>14033.250000</td>\n",
       "      <td>24128.000000</td>\n",
       "      <td>19454.750000</td>\n",
       "      <td>47008.750000</td>\n",
       "    </tr>\n",
       "    <tr>\n",
       "      <th>50%</th>\n",
       "      <td>162175.500000</td>\n",
       "      <td>166153.000000</td>\n",
       "      <td>45347.500000</td>\n",
       "      <td>16325.000000</td>\n",
       "      <td>134337.500000</td>\n",
       "      <td>16699.500000</td>\n",
       "      <td>27694.000000</td>\n",
       "      <td>22275.500000</td>\n",
       "      <td>63282.000000</td>\n",
       "    </tr>\n",
       "    <tr>\n",
       "      <th>75%</th>\n",
       "      <td>190688.000000</td>\n",
       "      <td>186245.250000</td>\n",
       "      <td>53219.750000</td>\n",
       "      <td>18527.250000</td>\n",
       "      <td>156279.500000</td>\n",
       "      <td>18504.500000</td>\n",
       "      <td>34619.750000</td>\n",
       "      <td>27579.750000</td>\n",
       "      <td>77960.750000</td>\n",
       "    </tr>\n",
       "    <tr>\n",
       "      <th>max</th>\n",
       "      <td>256742.000000</td>\n",
       "      <td>268053.000000</td>\n",
       "      <td>102849.000000</td>\n",
       "      <td>28144.000000</td>\n",
       "      <td>212646.000000</td>\n",
       "      <td>25780.000000</td>\n",
       "      <td>53677.000000</td>\n",
       "      <td>35841.000000</td>\n",
       "      <td>119064.000000</td>\n",
       "    </tr>\n",
       "    <tr>\n",
       "      <th rowspan=\"8\" valign=\"top\">low_complaints</th>\n",
       "      <th>count</th>\n",
       "      <td>31.000000</td>\n",
       "      <td>31.000000</td>\n",
       "      <td>31.000000</td>\n",
       "      <td>31.000000</td>\n",
       "      <td>31.000000</td>\n",
       "      <td>31.000000</td>\n",
       "      <td>31.000000</td>\n",
       "      <td>31.000000</td>\n",
       "      <td>31.000000</td>\n",
       "    </tr>\n",
       "    <tr>\n",
       "      <th>mean</th>\n",
       "      <td>140386.354839</td>\n",
       "      <td>107009.387097</td>\n",
       "      <td>39788.451613</td>\n",
       "      <td>13582.290323</td>\n",
       "      <td>111000.903226</td>\n",
       "      <td>13796.548387</td>\n",
       "      <td>25901.387097</td>\n",
       "      <td>19908.451613</td>\n",
       "      <td>51394.516129</td>\n",
       "    </tr>\n",
       "    <tr>\n",
       "      <th>std</th>\n",
       "      <td>22225.328483</td>\n",
       "      <td>21408.244170</td>\n",
       "      <td>13913.234517</td>\n",
       "      <td>5146.512749</td>\n",
       "      <td>18289.878715</td>\n",
       "      <td>5114.318383</td>\n",
       "      <td>9362.207545</td>\n",
       "      <td>5212.610765</td>\n",
       "      <td>8099.371099</td>\n",
       "    </tr>\n",
       "    <tr>\n",
       "      <th>min</th>\n",
       "      <td>106737.000000</td>\n",
       "      <td>60257.000000</td>\n",
       "      <td>24376.000000</td>\n",
       "      <td>5588.000000</td>\n",
       "      <td>80875.000000</td>\n",
       "      <td>5621.000000</td>\n",
       "      <td>11449.000000</td>\n",
       "      <td>11140.000000</td>\n",
       "      <td>37349.000000</td>\n",
       "    </tr>\n",
       "    <tr>\n",
       "      <th>25%</th>\n",
       "      <td>124417.000000</td>\n",
       "      <td>94073.000000</td>\n",
       "      <td>30958.000000</td>\n",
       "      <td>10122.500000</td>\n",
       "      <td>97575.500000</td>\n",
       "      <td>10725.500000</td>\n",
       "      <td>17743.500000</td>\n",
       "      <td>15739.000000</td>\n",
       "      <td>46435.500000</td>\n",
       "    </tr>\n",
       "    <tr>\n",
       "      <th>50%</th>\n",
       "      <td>135839.000000</td>\n",
       "      <td>107031.000000</td>\n",
       "      <td>34729.000000</td>\n",
       "      <td>11810.000000</td>\n",
       "      <td>108584.000000</td>\n",
       "      <td>13181.000000</td>\n",
       "      <td>25648.000000</td>\n",
       "      <td>20089.000000</td>\n",
       "      <td>51506.000000</td>\n",
       "    </tr>\n",
       "    <tr>\n",
       "      <th>75%</th>\n",
       "      <td>159616.500000</td>\n",
       "      <td>122606.000000</td>\n",
       "      <td>43567.000000</td>\n",
       "      <td>16771.500000</td>\n",
       "      <td>123006.000000</td>\n",
       "      <td>15705.000000</td>\n",
       "      <td>30521.000000</td>\n",
       "      <td>23542.500000</td>\n",
       "      <td>53799.000000</td>\n",
       "    </tr>\n",
       "    <tr>\n",
       "      <th>max</th>\n",
       "      <td>182354.000000</td>\n",
       "      <td>137344.000000</td>\n",
       "      <td>74339.000000</td>\n",
       "      <td>24148.000000</td>\n",
       "      <td>142239.000000</td>\n",
       "      <td>25023.000000</td>\n",
       "      <td>45380.000000</td>\n",
       "      <td>29541.000000</td>\n",
       "      <td>75030.000000</td>\n",
       "    </tr>\n",
       "  </tbody>\n",
       "</table>\n",
       "</div>"
      ],
      "text/plain": [
       "                       Total Population     complaints  high_connections  \\\n",
       "hi/lo                                                                      \n",
       "high_complaints count         28.000000      28.000000         28.000000   \n",
       "                mean      170994.500000  171201.928571      46777.892857   \n",
       "                std        36494.579636   29328.379401      17852.445778   \n",
       "                min       126747.000000  139706.000000      25772.000000   \n",
       "                25%       137742.750000  149991.000000      33986.500000   \n",
       "                50%       162175.500000  166153.000000      45347.500000   \n",
       "                75%       190688.000000  186245.250000      53219.750000   \n",
       "                max       256742.000000  268053.000000     102849.000000   \n",
       "low_complaints  count         31.000000      31.000000         31.000000   \n",
       "                mean      140386.354839  107009.387097      39788.451613   \n",
       "                std        22225.328483   21408.244170      13913.234517   \n",
       "                min       106737.000000   60257.000000      24376.000000   \n",
       "                25%       124417.000000   94073.000000      30958.000000   \n",
       "                50%       135839.000000  107031.000000      34729.000000   \n",
       "                75%       159616.500000  122606.000000      43567.000000   \n",
       "                max       182354.000000  137344.000000      74339.000000   \n",
       "\n",
       "                       low_connections     p18andover       p18to24  \\\n",
       "hi/lo                                                                 \n",
       "high_complaints count        28.000000      28.000000     28.000000   \n",
       "                mean      16438.500000  134728.821429  16608.500000   \n",
       "                std        3887.299820   32034.816543   4171.466040   \n",
       "                min        9460.000000   95985.000000   8942.000000   \n",
       "                25%       13740.750000  107827.250000  14033.250000   \n",
       "                50%       16325.000000  134337.500000  16699.500000   \n",
       "                75%       18527.250000  156279.500000  18504.500000   \n",
       "                max       28144.000000  212646.000000  25780.000000   \n",
       "low_complaints  count        31.000000      31.000000     31.000000   \n",
       "                mean      13582.290323  111000.903226  13796.548387   \n",
       "                std        5146.512749   18289.878715   5114.318383   \n",
       "                min        5588.000000   80875.000000   5621.000000   \n",
       "                25%       10122.500000   97575.500000  10725.500000   \n",
       "                50%       11810.000000  108584.000000  13181.000000   \n",
       "                75%       16771.500000  123006.000000  15705.000000   \n",
       "                max       24148.000000  142239.000000  25023.000000   \n",
       "\n",
       "                            p25to34       p35to44     p44andover  \n",
       "hi/lo                                                             \n",
       "high_complaints count     28.000000     28.000000      28.000000  \n",
       "                mean   30255.535714  23611.107143   64253.678571  \n",
       "                std     9682.295142   5778.455358   20232.786017  \n",
       "                min    17556.000000  15311.000000   36407.000000  \n",
       "                25%    24128.000000  19454.750000   47008.750000  \n",
       "                50%    27694.000000  22275.500000   63282.000000  \n",
       "                75%    34619.750000  27579.750000   77960.750000  \n",
       "                max    53677.000000  35841.000000  119064.000000  \n",
       "low_complaints  count     31.000000     31.000000      31.000000  \n",
       "                mean   25901.387097  19908.451613   51394.516129  \n",
       "                std     9362.207545   5212.610765    8099.371099  \n",
       "                min    11449.000000  11140.000000   37349.000000  \n",
       "                25%    17743.500000  15739.000000   46435.500000  \n",
       "                50%    25648.000000  20089.000000   51506.000000  \n",
       "                75%    30521.000000  23542.500000   53799.000000  \n",
       "                max    45380.000000  29541.000000   75030.000000  "
      ]
     },
     "execution_count": 630,
     "metadata": {},
     "output_type": "execute_result"
    }
   ],
   "source": [
    "# statistical summary of demographic in community districts with high complaints vs low complaints\n",
    "df.groupby('hi/lo').describe()"
   ]
  },
  {
   "cell_type": "markdown",
   "metadata": {},
   "source": [
    "# 6. Analysis"
   ]
  },
  {
   "cell_type": "code",
   "execution_count": 440,
   "metadata": {
    "collapsed": true
   },
   "outputs": [],
   "source": [
    "# Are the demographics and infrastructure different in Community Districts that show more complaints than others?\n",
    "import statsmodels.formula.api as smf"
   ]
  },
  {
   "cell_type": "markdown",
   "metadata": {},
   "source": [
    "### a. Regress with demographic data"
   ]
  },
  {
   "cell_type": "code",
   "execution_count": 613,
   "metadata": {
    "collapsed": false
   },
   "outputs": [
    {
     "name": "stdout",
     "output_type": "stream",
     "text": [
      "slope for p18andover is 0.69976019537, p-value is 0.000117111996231, rsquared is 0.230927110566\n",
      "slope for p44andover is 1.09051827783, p-value is 0.000595533741231, rsquared is 0.18830474314\n",
      "slope for p35to44 is 2.82155092561, p-value is 0.00192816177728, rsquared is 0.156486205431\n",
      "slope for p25to34 is 1.09563530782, p-value is 0.0479155411517, rsquared is 0.0669060906918\n",
      "slope for p18to24 is 2.90524887509, p-value is 0.00757687147247, rsquared is 0.118555368512\n"
     ]
    }
   ],
   "source": [
    "# try to regress with all demographic data by age group, one by one\n",
    "slope = []\n",
    "for cols in df.columns[4:9]:\n",
    "    lm = smf.ols('complaints ~'+cols, data=df).fit()\n",
    "    slope.append((lm.params[1],lm.params[0]))\n",
    "    print 'slope for ' + cols + ' is ' + str(lm.params[1]) + ', p-value is ' + str(lm.pvalues[1]) + ', rsquared is ' \\\n",
    "            + str(lm.rsquared)"
   ]
  },
  {
   "cell_type": "markdown",
   "metadata": {},
   "source": [
    "#### Turns out, the highest rsquared are when we regress complaints with population 18 and over, and population 44 and over with p-value are 0.000117111996231 and 0.000595533741231. Those p-values are less than 0.05 so each of them is statistically significant towards complaint numbers."
   ]
  },
  {
   "cell_type": "code",
   "execution_count": 616,
   "metadata": {
    "collapsed": false
   },
   "outputs": [
    {
     "data": {
      "text/plain": [
       "<matplotlib.text.Text at 0x7f356c1a5390>"
      ]
     },
     "execution_count": 616,
     "metadata": {},
     "output_type": "execute_result"
    },
    {
     "data": {
      "image/png": "[encoded data removed]",
      "text/plain": [
       "<matplotlib.figure.Figure at 0x7f356c2bf250>"
      ]
     },
     "metadata": {},
     "output_type": "display_data"
    }
   ],
   "source": [
    "x1 = np.linspace(60000,225000,100)\n",
    "x2 = np.linspace(20000,140000,100)\n",
    "fig1 = plt.figure(figsize = (20,6))\n",
    "ax1, ax2 = fig1.add_subplot(121), fig1.add_subplot(122)\n",
    "\n",
    "ax1.scatter(df.p18andover, df.complaints, lw = 0)\n",
    "ax1.plot(x1,x1*slope[0][0]+slope[0][1], lw=2, color='g')\n",
    "ax1.set_title('Complaints vs Population 18 Years and Over', fontsize=15)\n",
    "ax1.set_xlabel('Population 18 years and over', fontsize = 14)\n",
    "ax1.set_ylabel('Number of Complaints', fontsize = 14)\n",
    "\n",
    "ax2.scatter(df.p44andover, df.complaints, lw = 0)\n",
    "ax2.plot(x2,x2*slope[1][0]+slope[1][1], lw=2, color='g')\n",
    "ax2.set_title('Complaints vs Population 44 years and over',fontsize=15)\n",
    "ax2.set_xlabel('Population 44 years and over', fontsize = 14)\n",
    "ax2.set_ylabel('Number of Complaints', fontsize = 14)"
   ]
  },
  {
   "cell_type": "markdown",
   "metadata": {},
   "source": [
    "#### Now, we try to combine all the age groups as regressor"
   ]
  },
  {
   "cell_type": "code",
   "execution_count": 620,
   "metadata": {
    "collapsed": false
   },
   "outputs": [
    {
     "name": "stdout",
     "output_type": "stream",
     "text": [
      "                            OLS Regression Results                            \n",
      "==============================================================================\n",
      "Dep. Variable:             complaints   R-squared:                       0.259\n",
      "Model:                            OLS   Adj. R-squared:                  0.204\n",
      "Method:                 Least Squares   F-statistic:                     4.723\n",
      "Date:                Mon, 07 Nov 2016   Prob (F-statistic):            0.00243\n",
      "Time:                        14:06:30   Log-Likelihood:                -701.05\n",
      "No. Observations:                  59   AIC:                             1412.\n",
      "Df Residuals:                      54   BIC:                             1422.\n",
      "Df Model:                           4                                         \n",
      "Covariance Type:            nonrobust                                         \n",
      "==============================================================================\n",
      "                 coef    std err          t      P>|t|      [95.0% Conf. Int.]\n",
      "------------------------------------------------------------------------------\n",
      "Intercept   4.459e+04   2.22e+04      2.006      0.050        31.095  8.91e+04\n",
      "p44andover     0.7175      0.417      1.722      0.091        -0.118     1.553\n",
      "p35to44        0.9312      1.667      0.558      0.579        -2.412     4.274\n",
      "p25to34        0.0843      0.796      0.106      0.916        -1.511     1.680\n",
      "p18to24        1.9231      1.044      1.841      0.071        -0.171     4.017\n",
      "==============================================================================\n",
      "Omnibus:                        0.274   Durbin-Watson:                   0.619\n",
      "Prob(Omnibus):                  0.872   Jarque-Bera (JB):                0.150\n",
      "Skew:                           0.122   Prob(JB):                        0.928\n",
      "Kurtosis:                       2.955   Cond. No.                     3.32e+05\n",
      "==============================================================================\n",
      "\n",
      "Warnings:\n",
      "[1] Standard Errors assume that the covariance matrix of the errors is correctly specified.\n",
      "[2] The condition number is large, 3.32e+05. This might indicate that there are\n",
      "strong multicollinearity or other numerical problems.\n"
     ]
    },
    {
     "data": {
      "text/plain": [
       "<matplotlib.text.Text at 0x7f3567f25610>"
      ]
     },
     "execution_count": 620,
     "metadata": {},
     "output_type": "execute_result"
    },
    {
     "data": {
      "image/png": "[encoded data removed]",
      "text/plain": [
       "<matplotlib.figure.Figure at 0x7f3567fc7790>"
      ]
     },
     "metadata": {},
     "output_type": "display_data"
    }
   ],
   "source": [
    "lm1 = smf.ols('complaints ~ p44andover + p35to44 + p25to34 + p18to24', data=df).fit()\n",
    "print lm1.summary()\n",
    "df['Prediction 1'] = lm1.predict()\n",
    "plt.scatter(df['Prediction 1'],df.complaints)\n",
    "plt.xlim(50000,250000)\n",
    "plt.ylim(50000,250000)\n",
    "plt.plot([50000,250000],[50000,250000],'g--')\n",
    "x = np.linspace(50000,250000,100)\n",
    "plt.plot(x,x*lm1.rsquared+100000)\n",
    "plt.xlabel('Predicted complaints')\n",
    "plt.ylabel('Number of complaints')\n",
    "plt.title(\"Regression of Complaints Over Demographic Groups\")"
   ]
  },
  {
   "cell_type": "markdown",
   "metadata": {},
   "source": [
    "#### Here we get better r-square but the value is still small (0.259). P value for each variable become greater than 0.05, making them less significant towards complaints numbers. However, although linear relationship is not likely here, there is a possibility that the relationship is not linear."
   ]
  },
  {
   "cell_type": "code",
   "execution_count": 634,
   "metadata": {
    "collapsed": false
   },
   "outputs": [
    {
     "name": "stdout",
     "output_type": "stream",
     "text": [
      "                            OLS Regression Results                            \n",
      "==============================================================================\n",
      "Dep. Variable:             complaints   R-squared:                       0.115\n",
      "Model:                            OLS   Adj. R-squared:                  0.084\n",
      "Method:                 Least Squares   F-statistic:                     3.656\n",
      "Date:                Mon, 07 Nov 2016   Prob (F-statistic):             0.0322\n",
      "Time:                        14:39:21   Log-Likelihood:                -706.28\n",
      "No. Observations:                  59   AIC:                             1419.\n",
      "Df Residuals:                      56   BIC:                             1425.\n",
      "Df Model:                           2                                         \n",
      "Covariance Type:            nonrobust                                         \n",
      "====================================================================================\n",
      "                       coef    std err          t      P>|t|      [95.0% Conf. Int.]\n",
      "------------------------------------------------------------------------------------\n",
      "Intercept           7.3e+04   2.45e+04      2.980      0.004      2.39e+04  1.22e+05\n",
      "low_connections      2.2730      1.106      2.055      0.045         0.057     4.489\n",
      "high_connections     0.7080      0.327      2.165      0.035         0.053     1.363\n",
      "==============================================================================\n",
      "Omnibus:                        0.754   Durbin-Watson:                   0.233\n",
      "Prob(Omnibus):                  0.686   Jarque-Bera (JB):                0.298\n",
      "Skew:                           0.146   Prob(JB):                        0.862\n",
      "Kurtosis:                       3.191   Cond. No.                     2.30e+05\n",
      "==============================================================================\n",
      "\n",
      "Warnings:\n",
      "[1] Standard Errors assume that the covariance matrix of the errors is correctly specified.\n",
      "[2] The condition number is large, 2.3e+05. This might indicate that there are\n",
      "strong multicollinearity or other numerical problems.\n"
     ]
    },
    {
     "data": {
      "text/plain": [
       "<matplotlib.text.Text at 0x7f3567c63a10>"
      ]
     },
     "execution_count": 634,
     "metadata": {},
     "output_type": "execute_result"
    },
    {
     "data": {
      "image/png": "[encoded data removed]",
      "text/plain": [
       "<matplotlib.figure.Figure at 0x7f3567e51ad0>"
      ]
     },
     "metadata": {},
     "output_type": "display_data"
    }
   ],
   "source": [
    "lm2 = smf.ols('complaints ~ low_connections + high_connections',data=df).fit()\n",
    "print lm2.summary()\n",
    "df['Prediction 2'] = lm2.predict()\n",
    "plt.scatter(df['Prediction 2'],df.complaints)\n",
    "plt.xlim(50000,250000)\n",
    "plt.ylim(50000,250000)\n",
    "plt.plot([50000,250000],[50000,250000],'g--')\n",
    "x = np.linspace(50000,250000,100)\n",
    "plt.plot(x,x*lm2.rsquared+120000)\n",
    "plt.xlabel('Predicted complaints')\n",
    "plt.ylabel('Number of complaints')\n",
    "plt.title(\"Regression of Complaints Over Internet Connections\")"
   ]
  },
  {
   "cell_type": "markdown",
   "metadata": {},
   "source": [
    "#### The r-square value here is smaller than the previous regressions (0.115). So there is no strong linear relationship between complaints and number of household with high/low internet connections. "
   ]
  },
  {
   "cell_type": "code",
   "execution_count": null,
   "metadata": {
    "collapsed": true
   },
   "outputs": [],
   "source": []
  }
 ],
 "metadata": {
  "celltoolbar": "Raw Cell Format",
  "kernelspec": {
   "display_name": "Python [conda root]",
   "language": "python",
   "name": "conda-root-py"
  },
  "language_info": {
   "codemirror_mode": {
    "name": "ipython",
    "version": 2
   },
   "file_extension": ".py",
   "mimetype": "text/x-python",
   "name": "python",
   "nbconvert_exporter": "python",
   "pygments_lexer": "ipython2",
   "version": "2.7.12"
  }
 },
 "nbformat": 4,
 "nbformat_minor": 0
}
